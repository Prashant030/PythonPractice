{
 "cells": [
  {
   "cell_type": "code",
   "execution_count": 1,
   "metadata": {},
   "outputs": [
    {
     "name": "stdout",
     "output_type": "stream",
     "text": [
      "15\n",
      "not prime\n"
     ]
    }
   ],
   "source": [
    "#print a number is prime or not \n",
    "n = int (input())\n",
    "flag = False\n",
    "for i in range(2,n,1):\n",
    "    if i%2==0:\n",
    "        flag =True\n",
    "if flag:\n",
    "    print(\"not prime\")\n",
    "else:\n",
    "    (\"prime\")\n"
   ]
  },
  {
   "cell_type": "raw",
   "metadata": {},
   "source": [
    "#print the pattern\n",
    "      1\n",
    "    2 3 2\n",
    "  3 4 5 4 3\n",
    "4 5 6 7 6 5 4"
   ]
  },
  {
   "cell_type": "code",
   "execution_count": 18,
   "metadata": {},
   "outputs": [
    {
     "name": "stdout",
     "output_type": "stream",
     "text": [
      "4\n",
      "    \n",
      "   1\n",
      "  23\n",
      " 345\n",
      "4567\n"
     ]
    }
   ],
   "source": [
    "n = int (input())\n",
    "for i in range (n+1):\n",
    "    for space in range (1,n-i+1):\n",
    "        print(\" \", end=\"\")\n",
    "    for j in range (1,i+1):\n",
    "        print (i+j-1 ,end =\"\")\n",
    "    for j in range (2*i-2, i-1,-1):\n",
    "            print(i +j-1,end=\"\")\n",
    "    print()\n",
    "            \n",
    "    \n",
    "  \n",
    "        \n",
    "    "
   ]
  },
  {
   "cell_type": "code",
   "execution_count": 2,
   "metadata": {},
   "outputs": [
    {
     "name": "stdout",
     "output_type": "stream",
     "text": [
      "4\n"
     ]
    }
   ],
   "source": [
    "n= int(input())\n",
    "for n in range (1,n+1) :\n",
    "    for i in range (1, 2*n,-1):\n",
    "        space =1\n",
    "        while space<=(2*n-2*i)-1:\n",
    "            print (\" \",end =\"\")\n",
    "            space = space+1\n",
    "        \n",
    "        j =1 \n",
    "        while j >=n:\n",
    "            print(j,end =\"\")\n",
    "            j =j+1\n",
    "            \n",
    "        print()"
   ]
  },
  {
   "cell_type": "code",
   "execution_count": null,
   "metadata": {},
   "outputs": [],
   "source": []
  }
 ],
 "metadata": {
  "kernelspec": {
   "display_name": "Python 3",
   "language": "python",
   "name": "python3"
  },
  "language_info": {
   "codemirror_mode": {
    "name": "ipython",
    "version": 3
   },
   "file_extension": ".py",
   "mimetype": "text/x-python",
   "name": "python",
   "nbconvert_exporter": "python",
   "pygments_lexer": "ipython3",
   "version": "3.8.3"
  }
 },
 "nbformat": 4,
 "nbformat_minor": 4
}
